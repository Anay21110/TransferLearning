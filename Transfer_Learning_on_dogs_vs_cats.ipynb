{
  "nbformat": 4,
  "nbformat_minor": 0,
  "metadata": {
    "colab": {
      "name": "Transfer Learning on dogs vs cats.ipynb",
      "provenance": [],
      "authorship_tag": "ABX9TyNTrgkMzFwYSV9ktXquz85h",
      "include_colab_link": true
    },
    "kernelspec": {
      "name": "python3",
      "display_name": "Python 3"
    },
    "language_info": {
      "name": "python"
    },
    "accelerator": "GPU"
  },
  "cells": [
    {
      "cell_type": "markdown",
      "metadata": {
        "id": "view-in-github",
        "colab_type": "text"
      },
      "source": [
        "<a href=\"https://colab.research.google.com/github/Anay21110/TransferLearning/blob/main/Transfer_Learning_on_dogs_vs_cats.ipynb\" target=\"_parent\"><img src=\"https://colab.research.google.com/assets/colab-badge.svg\" alt=\"Open In Colab\"/></a>"
      ]
    },
    {
      "cell_type": "code",
      "metadata": {
        "id": "4xBiMjHy70rd"
      },
      "source": [
        "import os\n",
        "\n",
        "import tensorflow as tf\n",
        "from tensorflow.keras import layers\n",
        "from tensorflow.keras import Model"
      ],
      "execution_count": 1,
      "outputs": []
    },
    {
      "cell_type": "code",
      "metadata": {
        "colab": {
          "base_uri": "https://localhost:8080/"
        },
        "id": "CYmowHt77_sd",
        "outputId": "1da76cc0-a4ee-4bae-9b15-8cc4e9a5e3ba"
      },
      "source": [
        "!wget --no-check-certificate \\\n",
        "    https://storage.googleapis.com/mledu-datasets/cats_and_dogs_filtered.zip \\\n",
        "    -O /tmp/cats_and_dogs_filtered.zip"
      ],
      "execution_count": 2,
      "outputs": [
        {
          "output_type": "stream",
          "text": [
            "--2021-06-23 15:15:00--  https://storage.googleapis.com/mledu-datasets/cats_and_dogs_filtered.zip\n",
            "Resolving storage.googleapis.com (storage.googleapis.com)... 172.217.13.80, 172.217.2.112, 172.217.15.80, ...\n",
            "Connecting to storage.googleapis.com (storage.googleapis.com)|172.217.13.80|:443... connected.\n",
            "HTTP request sent, awaiting response... 200 OK\n",
            "Length: 68606236 (65M) [application/zip]\n",
            "Saving to: ‘/tmp/cats_and_dogs_filtered.zip’\n",
            "\n",
            "/tmp/cats_and_dogs_ 100%[===================>]  65.43M   144MB/s    in 0.5s    \n",
            "\n",
            "2021-06-23 15:15:00 (144 MB/s) - ‘/tmp/cats_and_dogs_filtered.zip’ saved [68606236/68606236]\n",
            "\n"
          ],
          "name": "stdout"
        }
      ]
    },
    {
      "cell_type": "code",
      "metadata": {
        "id": "iylf1CUdDiHd"
      },
      "source": [
        "import os\n",
        "import zipfile\n",
        "\n",
        "local_zip = '/tmp/cats_and_dogs_filtered.zip'\n",
        "zip_ref = zipfile.ZipFile(local_zip, 'r')\n",
        "zip_ref.extractall('/tmp')\n",
        "zip_ref.close()\n",
        "\n",
        "\n",
        "# We will use 2000 pics for training and 1000 pics for testing out of 300 \n",
        "# pics in total"
      ],
      "execution_count": 3,
      "outputs": []
    },
    {
      "cell_type": "code",
      "metadata": {
        "id": "LOILTUFlDiKT"
      },
      "source": [
        "#Let's define each of these directories:\n",
        "\n",
        "base_dir = '/tmp/cats_and_dogs_filtered'\n",
        "train_dir = os.path.join(base_dir,'train')\n",
        "validation_dir = os.path.join(base_dir,'validation')\n",
        "\n",
        "# Directory with our training cat pictures\n",
        "train_cats_dir = os.path.join(train_dir,'cats')\n",
        "\n",
        "# Directory with our training dog pictures\n",
        "train_dogs_dir = os.path.join(train_dir,'dogs')\n",
        "\n",
        "# Directory with our validation cat pictures\n",
        "validation_cats_dir = os.path.join(validation_dir,'cats')\n",
        "\n",
        "#Directory with our validation dog pictures\n",
        "validation_dogs_dir = os.path.join(validation_dir,'dogs')"
      ],
      "execution_count": 4,
      "outputs": []
    },
    {
      "cell_type": "code",
      "metadata": {
        "colab": {
          "base_uri": "https://localhost:8080/"
        },
        "id": "AZ0fsM2CDsuc",
        "outputId": "0b479a06-1b2c-4a9e-8921-ff6306521cd3"
      },
      "source": [
        "train_cat_fnames = os.listdir(train_cats_dir)\n",
        "print(train_cat_fnames[:10])\n",
        "\n",
        "train_dog_fnames = os.listdir(train_dogs_dir)\n",
        "print(train_dog_fnames[:10])"
      ],
      "execution_count": 5,
      "outputs": [
        {
          "output_type": "stream",
          "text": [
            "['cat.427.jpg', 'cat.256.jpg', 'cat.415.jpg', 'cat.901.jpg', 'cat.587.jpg', 'cat.25.jpg', 'cat.358.jpg', 'cat.552.jpg', 'cat.986.jpg', 'cat.434.jpg']\n",
            "['dog.888.jpg', 'dog.646.jpg', 'dog.493.jpg', 'dog.557.jpg', 'dog.218.jpg', 'dog.520.jpg', 'dog.753.jpg', 'dog.33.jpg', 'dog.386.jpg', 'dog.393.jpg']\n"
          ],
          "name": "stdout"
        }
      ]
    },
    {
      "cell_type": "code",
      "metadata": {
        "id": "bXG1R1emDsxU"
      },
      "source": [
        "#Let's take a look at few pictures to get a better sense of what the cat and dogs dataset look like.First,configures the matplotlib parameters\n",
        "%matplotlib inline\n",
        "\n",
        "import matplotlib.pyplot as plt\n",
        "import matplotlib.image as mping\n",
        "\n",
        "#Parameters for our graph\n",
        "nrows = 4\n",
        "ncols = 4\n",
        "\n",
        "#Index for iterating over images\n",
        "pic_index = 0"
      ],
      "execution_count": 6,
      "outputs": []
    },
    {
      "cell_type": "code",
      "metadata": {
        "id": "lMHuYvvgDs0t"
      },
      "source": [
        ""
      ],
      "execution_count": 6,
      "outputs": []
    },
    {
      "cell_type": "code",
      "metadata": {
        "colab": {
          "base_uri": "https://localhost:8080/"
        },
        "id": "pmOJyih68r7k",
        "outputId": "afcaf544-b1f6-4cff-a0bb-d5b40edaf5db"
      },
      "source": [
        "#Import the inception model\n",
        "\n",
        "from tensorflow.keras.applications.inception_v3 import InceptionV3\n",
        "\n",
        "\n",
        "\n",
        "pre_trained_model = InceptionV3(input_shape=(150,150,3),\n",
        "                                include_top = False,\n",
        "                                weights = 'imagenet')\n"
      ],
      "execution_count": 7,
      "outputs": [
        {
          "output_type": "stream",
          "text": [
            "Downloading data from https://storage.googleapis.com/tensorflow/keras-applications/inception_v3/inception_v3_weights_tf_dim_ordering_tf_kernels_notop.h5\n",
            "87916544/87910968 [==============================] - 1s 0us/step\n"
          ],
          "name": "stdout"
        }
      ]
    },
    {
      "cell_type": "code",
      "metadata": {
        "id": "D2XW7qQi_EfQ"
      },
      "source": [
        " # Make all the layers non-trainable(We can retrain some of the lower layers to increase performance.It might lead to overfitting)\n",
        "\n",
        " for layer in pre_trained_model.layers:\n",
        "   layer.trainable = False"
      ],
      "execution_count": 8,
      "outputs": []
    },
    {
      "cell_type": "code",
      "metadata": {
        "colab": {
          "base_uri": "https://localhost:8080/"
        },
        "id": "5pZUhk7rAsRp",
        "outputId": "bebd9fda-5f40-46eb-eb0c-cc3c09c0a47e"
      },
      "source": [
        "# We can use binary_crossentropy as the loss metric as we have 2 target classes\n",
        "\n",
        "#Our optimizer is RMSProp with a learning rate of 0.0001\n",
        "\n",
        "from tensorflow.keras.optimizers import RMSprop\n",
        "\n",
        "#Flatten the output layer to 1 dimension\n",
        "x = layers.Flatten()(pre_trained_model.output)\n",
        "#Add a fully connected layer with 1024 hidden units abd ReLU activation\n",
        "x = layers.Dense(1024,activation='relu')(x)\n",
        "#Add a dropout of 0.2\n",
        "x = layers.Dropout(0.2)(x)\n",
        "#Add a final sigmoid layer for classification\n",
        "x = layers.Dense(1,activation='sigmoid')(x)\n",
        "\n",
        "\n",
        "model = Model(pre_trained_model.input,x)\n",
        "\n",
        "model.compile(optimizer = RMSprop(lr = 0.0001),\n",
        "              loss = 'binary_crossentropy',\n",
        "              metrics = ['acc'])"
      ],
      "execution_count": 9,
      "outputs": [
        {
          "output_type": "stream",
          "text": [
            "/usr/local/lib/python3.7/dist-packages/tensorflow/python/keras/optimizer_v2/optimizer_v2.py:375: UserWarning: The `lr` argument is deprecated, use `learning_rate` instead.\n",
            "  \"The `lr` argument is deprecated, use `learning_rate` instead.\")\n"
          ],
          "name": "stderr"
        }
      ]
    },
    {
      "cell_type": "markdown",
      "metadata": {
        "id": "RH-9utzvCHZm"
      },
      "source": [
        "After rescaling the images, and using Image Augmentation, we flow them in batches of 20 using train_datagen and train_datagen."
      ]
    },
    {
      "cell_type": "code",
      "metadata": {
        "colab": {
          "base_uri": "https://localhost:8080/"
        },
        "id": "VEnbGhUEB6lu",
        "outputId": "7832e032-76af-44e8-958c-cbd77f2eed8b"
      },
      "source": [
        "\n",
        "from tensorflow.keras.preprocessing import image_dataset_from_directory\n",
        "from keras.preprocessing.image import ImageDataGenerator\n",
        "\n",
        "\n",
        "#Add our data-augmentation parameters to ImageDataGenerator\n",
        "train_datagen = ImageDataGenerator(rescale = 1./255.,\n",
        "                                   rotation_range = 40,\n",
        "                                   width_shift_range = 0.2,\n",
        "                                   shear_range = 0.2,\n",
        "                                   zoom_range = 0.2,\n",
        "                                   horizontal_flip = True)\n",
        "\n",
        "#Note that validation data should not be augmented!\n",
        "test_datagen = ImageDataGenerator(rescale = 1.0/255. )\n",
        "\n",
        "#Flow training images in batches of 20 using train_datagen generator\n",
        "train_generator = train_datagen.flow_from_directory(train_dir,\n",
        "                                                    batch_size = 20,\n",
        "                                                    class_mode = 'binary',\n",
        "                                                    target_size = (150,150))\n",
        "\n",
        "#Flow validation images in batches of 20 using test_datagen generator\n",
        "validation_generator = test_datagen.flow_from_directory(\n",
        "    validation_dir,\n",
        "    batch_size = 20,\n",
        "    class_mode = 'binary',\n",
        "    target_size = (150,150)\n",
        ")"
      ],
      "execution_count": 10,
      "outputs": [
        {
          "output_type": "stream",
          "text": [
            "Found 2000 images belonging to 2 classes.\n",
            "Found 1000 images belonging to 2 classes.\n"
          ],
          "name": "stdout"
        }
      ]
    },
    {
      "cell_type": "code",
      "metadata": {
        "colab": {
          "base_uri": "https://localhost:8080/"
        },
        "id": "xFy5nmTADKup",
        "outputId": "65294f62-4c89-422b-beec-9a8afa0acb16"
      },
      "source": [
        "history = model.fit_generator(\n",
        "    train_generator,\n",
        "    validation_data = validation_generator,\n",
        "    steps_per_epoch = 100,\n",
        "    epochs = 100,\n",
        "    validation_steps = 50,\n",
        "    verbose = 2\n",
        ")"
      ],
      "execution_count": 11,
      "outputs": [
        {
          "output_type": "stream",
          "text": [
            "/usr/local/lib/python3.7/dist-packages/tensorflow/python/keras/engine/training.py:1940: UserWarning: `Model.fit_generator` is deprecated and will be removed in a future version. Please use `Model.fit`, which supports generators.\n",
            "  warnings.warn('`Model.fit_generator` is deprecated and '\n"
          ],
          "name": "stderr"
        },
        {
          "output_type": "stream",
          "text": [
            "Epoch 1/100\n",
            "100/100 - 52s - loss: 1.1072 - acc: 0.8565 - val_loss: 0.1983 - val_acc: 0.9490\n",
            "Epoch 2/100\n",
            "100/100 - 17s - loss: 0.4235 - acc: 0.9015 - val_loss: 0.2876 - val_acc: 0.9350\n",
            "Epoch 3/100\n",
            "100/100 - 17s - loss: 0.3755 - acc: 0.9120 - val_loss: 0.2349 - val_acc: 0.9460\n",
            "Epoch 4/100\n",
            "100/100 - 17s - loss: 0.3671 - acc: 0.9180 - val_loss: 0.1998 - val_acc: 0.9520\n",
            "Epoch 5/100\n",
            "100/100 - 17s - loss: 0.3602 - acc: 0.9120 - val_loss: 0.2586 - val_acc: 0.9360\n",
            "Epoch 6/100\n",
            "100/100 - 17s - loss: 0.3096 - acc: 0.9245 - val_loss: 0.2415 - val_acc: 0.9420\n",
            "Epoch 7/100\n",
            "100/100 - 17s - loss: 0.3008 - acc: 0.9250 - val_loss: 0.2109 - val_acc: 0.9500\n",
            "Epoch 8/100\n",
            "100/100 - 17s - loss: 0.3100 - acc: 0.9295 - val_loss: 0.3615 - val_acc: 0.9190\n",
            "Epoch 9/100\n",
            "100/100 - 17s - loss: 0.2782 - acc: 0.9305 - val_loss: 0.2946 - val_acc: 0.9360\n",
            "Epoch 10/100\n",
            "100/100 - 17s - loss: 0.2679 - acc: 0.9375 - val_loss: 0.1665 - val_acc: 0.9570\n",
            "Epoch 11/100\n",
            "100/100 - 17s - loss: 0.2728 - acc: 0.9325 - val_loss: 0.3180 - val_acc: 0.9320\n",
            "Epoch 12/100\n",
            "100/100 - 17s - loss: 0.2422 - acc: 0.9315 - val_loss: 0.1461 - val_acc: 0.9630\n",
            "Epoch 13/100\n",
            "100/100 - 17s - loss: 0.2150 - acc: 0.9495 - val_loss: 0.1427 - val_acc: 0.9640\n",
            "Epoch 14/100\n",
            "100/100 - 17s - loss: 0.2240 - acc: 0.9445 - val_loss: 0.1500 - val_acc: 0.9620\n",
            "Epoch 15/100\n",
            "100/100 - 17s - loss: 0.2557 - acc: 0.9370 - val_loss: 0.1170 - val_acc: 0.9610\n",
            "Epoch 16/100\n",
            "100/100 - 17s - loss: 0.2223 - acc: 0.9480 - val_loss: 0.3589 - val_acc: 0.9290\n",
            "Epoch 17/100\n",
            "100/100 - 16s - loss: 0.2071 - acc: 0.9455 - val_loss: 0.3167 - val_acc: 0.9480\n",
            "Epoch 18/100\n",
            "100/100 - 17s - loss: 0.2512 - acc: 0.9445 - val_loss: 0.1605 - val_acc: 0.9650\n",
            "Epoch 19/100\n",
            "100/100 - 17s - loss: 0.2571 - acc: 0.9420 - val_loss: 0.1648 - val_acc: 0.9650\n",
            "Epoch 20/100\n",
            "100/100 - 17s - loss: 0.2479 - acc: 0.9400 - val_loss: 0.2015 - val_acc: 0.9580\n",
            "Epoch 21/100\n",
            "100/100 - 17s - loss: 0.1974 - acc: 0.9510 - val_loss: 0.1680 - val_acc: 0.9560\n",
            "Epoch 22/100\n",
            "100/100 - 16s - loss: 0.1941 - acc: 0.9585 - val_loss: 0.2253 - val_acc: 0.9510\n",
            "Epoch 23/100\n",
            "100/100 - 17s - loss: 0.2224 - acc: 0.9480 - val_loss: 0.1648 - val_acc: 0.9580\n",
            "Epoch 24/100\n",
            "100/100 - 17s - loss: 0.1964 - acc: 0.9565 - val_loss: 0.1624 - val_acc: 0.9650\n",
            "Epoch 25/100\n",
            "100/100 - 17s - loss: 0.1924 - acc: 0.9520 - val_loss: 0.1839 - val_acc: 0.9680\n",
            "Epoch 26/100\n",
            "100/100 - 17s - loss: 0.1988 - acc: 0.9585 - val_loss: 0.3555 - val_acc: 0.9370\n",
            "Epoch 27/100\n",
            "100/100 - 17s - loss: 0.1904 - acc: 0.9555 - val_loss: 0.3780 - val_acc: 0.9310\n",
            "Epoch 28/100\n",
            "100/100 - 17s - loss: 0.1741 - acc: 0.9630 - val_loss: 0.5040 - val_acc: 0.9260\n",
            "Epoch 29/100\n",
            "100/100 - 16s - loss: 0.1595 - acc: 0.9625 - val_loss: 0.2405 - val_acc: 0.9490\n",
            "Epoch 30/100\n",
            "100/100 - 16s - loss: 0.1819 - acc: 0.9540 - val_loss: 0.1582 - val_acc: 0.9640\n",
            "Epoch 31/100\n",
            "100/100 - 17s - loss: 0.1627 - acc: 0.9590 - val_loss: 0.2395 - val_acc: 0.9500\n",
            "Epoch 32/100\n",
            "100/100 - 16s - loss: 0.1646 - acc: 0.9630 - val_loss: 0.1471 - val_acc: 0.9620\n",
            "Epoch 33/100\n",
            "100/100 - 17s - loss: 0.1339 - acc: 0.9655 - val_loss: 0.2013 - val_acc: 0.9650\n",
            "Epoch 34/100\n",
            "100/100 - 17s - loss: 0.1633 - acc: 0.9620 - val_loss: 0.1803 - val_acc: 0.9580\n",
            "Epoch 35/100\n",
            "100/100 - 17s - loss: 0.1277 - acc: 0.9680 - val_loss: 0.1818 - val_acc: 0.9660\n",
            "Epoch 36/100\n",
            "100/100 - 17s - loss: 0.1309 - acc: 0.9665 - val_loss: 0.1578 - val_acc: 0.9600\n",
            "Epoch 37/100\n",
            "100/100 - 17s - loss: 0.1339 - acc: 0.9685 - val_loss: 0.1623 - val_acc: 0.9630\n",
            "Epoch 38/100\n",
            "100/100 - 17s - loss: 0.1592 - acc: 0.9665 - val_loss: 0.1590 - val_acc: 0.9660\n",
            "Epoch 39/100\n",
            "100/100 - 17s - loss: 0.1800 - acc: 0.9560 - val_loss: 0.2408 - val_acc: 0.9570\n",
            "Epoch 40/100\n",
            "100/100 - 17s - loss: 0.1353 - acc: 0.9665 - val_loss: 0.2017 - val_acc: 0.9580\n",
            "Epoch 41/100\n",
            "100/100 - 17s - loss: 0.1176 - acc: 0.9665 - val_loss: 0.1852 - val_acc: 0.9660\n",
            "Epoch 42/100\n",
            "100/100 - 17s - loss: 0.1603 - acc: 0.9655 - val_loss: 0.1997 - val_acc: 0.9650\n",
            "Epoch 43/100\n",
            "100/100 - 17s - loss: 0.1272 - acc: 0.9705 - val_loss: 0.2597 - val_acc: 0.9500\n",
            "Epoch 44/100\n",
            "100/100 - 17s - loss: 0.1338 - acc: 0.9685 - val_loss: 0.2215 - val_acc: 0.9600\n",
            "Epoch 45/100\n",
            "100/100 - 17s - loss: 0.1387 - acc: 0.9685 - val_loss: 0.1647 - val_acc: 0.9670\n",
            "Epoch 46/100\n",
            "100/100 - 17s - loss: 0.1204 - acc: 0.9700 - val_loss: 0.1794 - val_acc: 0.9630\n",
            "Epoch 47/100\n",
            "100/100 - 17s - loss: 0.1326 - acc: 0.9710 - val_loss: 0.2166 - val_acc: 0.9570\n",
            "Epoch 48/100\n",
            "100/100 - 17s - loss: 0.1218 - acc: 0.9745 - val_loss: 0.1777 - val_acc: 0.9600\n",
            "Epoch 49/100\n",
            "100/100 - 17s - loss: 0.1251 - acc: 0.9690 - val_loss: 0.1862 - val_acc: 0.9630\n",
            "Epoch 50/100\n",
            "100/100 - 17s - loss: 0.1083 - acc: 0.9695 - val_loss: 0.1809 - val_acc: 0.9620\n",
            "Epoch 51/100\n",
            "100/100 - 17s - loss: 0.1428 - acc: 0.9670 - val_loss: 0.1963 - val_acc: 0.9620\n",
            "Epoch 52/100\n",
            "100/100 - 17s - loss: 0.1002 - acc: 0.9690 - val_loss: 0.2574 - val_acc: 0.9600\n",
            "Epoch 53/100\n",
            "100/100 - 17s - loss: 0.1243 - acc: 0.9710 - val_loss: 0.2168 - val_acc: 0.9630\n",
            "Epoch 54/100\n",
            "100/100 - 17s - loss: 0.0747 - acc: 0.9800 - val_loss: 0.2056 - val_acc: 0.9640\n",
            "Epoch 55/100\n",
            "100/100 - 17s - loss: 0.1331 - acc: 0.9720 - val_loss: 0.2967 - val_acc: 0.9530\n",
            "Epoch 56/100\n",
            "100/100 - 17s - loss: 0.1273 - acc: 0.9715 - val_loss: 0.2997 - val_acc: 0.9510\n",
            "Epoch 57/100\n",
            "100/100 - 17s - loss: 0.1368 - acc: 0.9700 - val_loss: 0.1764 - val_acc: 0.9690\n",
            "Epoch 58/100\n",
            "100/100 - 17s - loss: 0.1287 - acc: 0.9675 - val_loss: 0.1476 - val_acc: 0.9660\n",
            "Epoch 59/100\n",
            "100/100 - 17s - loss: 0.1134 - acc: 0.9750 - val_loss: 0.2623 - val_acc: 0.9560\n",
            "Epoch 60/100\n",
            "100/100 - 17s - loss: 0.0933 - acc: 0.9785 - val_loss: 0.3709 - val_acc: 0.9470\n",
            "Epoch 61/100\n",
            "100/100 - 17s - loss: 0.1045 - acc: 0.9795 - val_loss: 0.3459 - val_acc: 0.9510\n",
            "Epoch 62/100\n",
            "100/100 - 17s - loss: 0.1017 - acc: 0.9770 - val_loss: 0.2219 - val_acc: 0.9620\n",
            "Epoch 63/100\n",
            "100/100 - 17s - loss: 0.1055 - acc: 0.9775 - val_loss: 0.1800 - val_acc: 0.9640\n",
            "Epoch 64/100\n",
            "100/100 - 17s - loss: 0.1353 - acc: 0.9765 - val_loss: 0.3779 - val_acc: 0.9440\n",
            "Epoch 65/100\n",
            "100/100 - 17s - loss: 0.1106 - acc: 0.9760 - val_loss: 0.2245 - val_acc: 0.9630\n",
            "Epoch 66/100\n",
            "100/100 - 17s - loss: 0.1534 - acc: 0.9710 - val_loss: 0.2288 - val_acc: 0.9630\n",
            "Epoch 67/100\n",
            "100/100 - 17s - loss: 0.1032 - acc: 0.9745 - val_loss: 0.2068 - val_acc: 0.9660\n",
            "Epoch 68/100\n",
            "100/100 - 17s - loss: 0.0736 - acc: 0.9825 - val_loss: 0.2438 - val_acc: 0.9600\n",
            "Epoch 69/100\n",
            "100/100 - 16s - loss: 0.1402 - acc: 0.9675 - val_loss: 0.4748 - val_acc: 0.9480\n",
            "Epoch 70/100\n",
            "100/100 - 17s - loss: 0.1128 - acc: 0.9745 - val_loss: 0.2410 - val_acc: 0.9640\n",
            "Epoch 71/100\n",
            "100/100 - 17s - loss: 0.0711 - acc: 0.9845 - val_loss: 0.2594 - val_acc: 0.9660\n",
            "Epoch 72/100\n",
            "100/100 - 17s - loss: 0.1451 - acc: 0.9690 - val_loss: 0.2609 - val_acc: 0.9620\n",
            "Epoch 73/100\n",
            "100/100 - 17s - loss: 0.0885 - acc: 0.9790 - val_loss: 0.2838 - val_acc: 0.9620\n",
            "Epoch 74/100\n",
            "100/100 - 17s - loss: 0.1033 - acc: 0.9785 - val_loss: 0.2092 - val_acc: 0.9620\n",
            "Epoch 75/100\n",
            "100/100 - 17s - loss: 0.0956 - acc: 0.9770 - val_loss: 0.2590 - val_acc: 0.9590\n",
            "Epoch 76/100\n",
            "100/100 - 17s - loss: 0.1101 - acc: 0.9750 - val_loss: 0.1822 - val_acc: 0.9650\n",
            "Epoch 77/100\n",
            "100/100 - 17s - loss: 0.0876 - acc: 0.9800 - val_loss: 0.2105 - val_acc: 0.9680\n",
            "Epoch 78/100\n",
            "100/100 - 17s - loss: 0.1017 - acc: 0.9755 - val_loss: 0.2147 - val_acc: 0.9690\n",
            "Epoch 79/100\n",
            "100/100 - 17s - loss: 0.1162 - acc: 0.9735 - val_loss: 0.2124 - val_acc: 0.9610\n",
            "Epoch 80/100\n",
            "100/100 - 16s - loss: 0.1049 - acc: 0.9810 - val_loss: 0.2795 - val_acc: 0.9540\n",
            "Epoch 81/100\n",
            "100/100 - 17s - loss: 0.0940 - acc: 0.9790 - val_loss: 0.2185 - val_acc: 0.9710\n",
            "Epoch 82/100\n",
            "100/100 - 17s - loss: 0.0949 - acc: 0.9790 - val_loss: 0.2133 - val_acc: 0.9640\n",
            "Epoch 83/100\n",
            "100/100 - 17s - loss: 0.0941 - acc: 0.9820 - val_loss: 0.2426 - val_acc: 0.9610\n",
            "Epoch 84/100\n",
            "100/100 - 17s - loss: 0.1011 - acc: 0.9775 - val_loss: 0.1894 - val_acc: 0.9730\n",
            "Epoch 85/100\n",
            "100/100 - 17s - loss: 0.1094 - acc: 0.9780 - val_loss: 0.1857 - val_acc: 0.9640\n",
            "Epoch 86/100\n",
            "100/100 - 17s - loss: 0.0876 - acc: 0.9790 - val_loss: 0.2927 - val_acc: 0.9550\n",
            "Epoch 87/100\n",
            "100/100 - 17s - loss: 0.0868 - acc: 0.9810 - val_loss: 0.4577 - val_acc: 0.9500\n",
            "Epoch 88/100\n",
            "100/100 - 17s - loss: 0.0933 - acc: 0.9805 - val_loss: 0.2799 - val_acc: 0.9640\n",
            "Epoch 89/100\n",
            "100/100 - 17s - loss: 0.1245 - acc: 0.9760 - val_loss: 0.2109 - val_acc: 0.9670\n",
            "Epoch 90/100\n",
            "100/100 - 17s - loss: 0.0511 - acc: 0.9855 - val_loss: 0.2680 - val_acc: 0.9660\n",
            "Epoch 91/100\n",
            "100/100 - 17s - loss: 0.0890 - acc: 0.9840 - val_loss: 0.1898 - val_acc: 0.9710\n",
            "Epoch 92/100\n",
            "100/100 - 17s - loss: 0.0944 - acc: 0.9845 - val_loss: 0.2958 - val_acc: 0.9580\n",
            "Epoch 93/100\n",
            "100/100 - 17s - loss: 0.0778 - acc: 0.9790 - val_loss: 0.2871 - val_acc: 0.9570\n",
            "Epoch 94/100\n",
            "100/100 - 17s - loss: 0.0796 - acc: 0.9840 - val_loss: 0.2297 - val_acc: 0.9650\n",
            "Epoch 95/100\n",
            "100/100 - 17s - loss: 0.0955 - acc: 0.9805 - val_loss: 0.2538 - val_acc: 0.9600\n",
            "Epoch 96/100\n",
            "100/100 - 17s - loss: 0.0752 - acc: 0.9810 - val_loss: 0.3734 - val_acc: 0.9610\n",
            "Epoch 97/100\n",
            "100/100 - 17s - loss: 0.1009 - acc: 0.9785 - val_loss: 0.2958 - val_acc: 0.9620\n",
            "Epoch 98/100\n",
            "100/100 - 17s - loss: 0.0663 - acc: 0.9855 - val_loss: 0.2584 - val_acc: 0.9650\n",
            "Epoch 99/100\n",
            "100/100 - 17s - loss: 0.0555 - acc: 0.9870 - val_loss: 0.2217 - val_acc: 0.9630\n",
            "Epoch 100/100\n",
            "100/100 - 17s - loss: 0.0923 - acc: 0.9820 - val_loss: 0.2614 - val_acc: 0.9680\n"
          ],
          "name": "stdout"
        }
      ]
    },
    {
      "cell_type": "code",
      "metadata": {
        "colab": {
          "base_uri": "https://localhost:8080/",
          "height": 578
        },
        "id": "NT-onVk7EvGI",
        "outputId": "905cfc34-9e1b-4c1a-a415-550bb5b356fd"
      },
      "source": [
        "# sets for each training epoch\n",
        "acc = history.history['acc']\n",
        "val_acc = history.history['val_acc']\n",
        "\n",
        "loss = history.history['loss']\n",
        "val_loss = history.history['val_loss']\n",
        "\n",
        "#get number of epochs\n",
        "epochs = range(len(acc))\n",
        "\n",
        "#plot training and validation accuaracy per epoch\n",
        "plt.plot(epochs,acc)\n",
        "plt.plot(epochs,val_acc)\n",
        "plt.title('Training and validation accuracy')\n",
        "\n",
        "plt.figure()\n",
        "\n",
        "# Plot training and validation loss per epoch\n",
        "plt.plot(epochs,loss)\n",
        "plt.plot(epochs,val_loss)\n",
        "plt.title('Training and validation loss')\n",
        "plt.figure()"
      ],
      "execution_count": 12,
      "outputs": [
        {
          "output_type": "execute_result",
          "data": {
            "text/plain": [
              "<Figure size 432x288 with 0 Axes>"
            ]
          },
          "metadata": {
            "tags": []
          },
          "execution_count": 12
        },
        {
          "output_type": "display_data",
          "data": {
            "image/png": "[encoded data removed]",
            "text/plain": [
              "<Figure size 432x288 with 1 Axes>"
            ]
          },
          "metadata": {
            "tags": [],
            "needs_background": "light"
          }
        },
        {
          "output_type": "display_data",
          "data": {
            "image/png": "[encoded data removed]",
            "text/plain": [
              "<Figure size 432x288 with 1 Axes>"
            ]
          },
          "metadata": {
            "tags": [],
            "needs_background": "light"
          }
        },
        {
          "output_type": "display_data",
          "data": {
            "text/plain": [
              "<Figure size 432x288 with 0 Axes>"
            ]
          },
          "metadata": {
            "tags": []
          }
        }
      ]
    },
    {
      "cell_type": "code",
      "metadata": {
        "id": "pnOV2SqkQAG2"
      },
      "source": [
        "class myCallback(tf.keras.callbacks.Callback):\n",
        "  def on_epoch_end(self, epoch, logs={}):\n",
        "    if(logs.get('acc')>0.959):\n",
        "      print(\"\\nReached 99.9% accuracy so cancelling training!\")\n",
        "      self.model.stop_training = True"
      ],
      "execution_count": 13,
      "outputs": []
    },
    {
      "cell_type": "markdown",
      "metadata": {
        "id": "xN0MomusQkCr"
      },
      "source": [
        "**An approach where we do not use all the layers in the pre-trained model**"
      ]
    },
    {
      "cell_type": "code",
      "metadata": {
        "colab": {
          "base_uri": "https://localhost:8080/"
        },
        "id": "Ert56mqUQdic",
        "outputId": "a8df3712-2070-4ac3-e35a-09120e8f24a2"
      },
      "source": [
        "last_layer = pre_trained_model.get_layer('mixed7')\n",
        "print('last layer output shape: ', last_layer.output_shape)\n",
        "last_output = last_layer.output"
      ],
      "execution_count": 14,
      "outputs": [
        {
          "output_type": "stream",
          "text": [
            "last layer output shape:  (None, 7, 7, 768)\n"
          ],
          "name": "stdout"
        }
      ]
    },
    {
      "cell_type": "code",
      "metadata": {
        "colab": {
          "base_uri": "https://localhost:8080/"
        },
        "id": "8Pn2ZPAPQ5IA",
        "outputId": "69b8852c-0a0b-4c8b-ae4c-54333a2e9ca3"
      },
      "source": [
        "last_layer = pre_trained_model.get_layer('mixed7')\n",
        "print('last layer output shape: ', last_layer.output_shape)\n",
        "last_output = last_layer.output\n",
        "\n",
        "# Flatten the output layer to 1 dimension\n",
        "x = layers.Flatten()(last_output)\n",
        "# Add a fully connected layer with 1,024 hidden units and ReLU activation\n",
        "x = layers.Dense(1024, activation='relu')(x)\n",
        "# Add a dropout rate of 0.2\n",
        "x = layers.Dropout(0.2)(x)                  \n",
        "# Add a final sigmoid layer for classification\n",
        "x = layers.Dense  (1, activation='sigmoid')(x)           \n",
        "\n",
        "model = Model( pre_trained_model.input, x) \n",
        "\n",
        "model.compile(optimizer = RMSprop(lr=0.0001), \n",
        "              loss = 'binary_crossentropy', \n",
        "              metrics = ['acc'])\n",
        "\n",
        "# Add our data-augmentation parameters to ImageDataGenerator\n",
        "train_datagen = ImageDataGenerator(rescale = 1./255.,\n",
        "                                   rotation_range = 40,\n",
        "                                   width_shift_range = 0.2,\n",
        "                                   height_shift_range = 0.2,\n",
        "                                   shear_range = 0.2,\n",
        "                                   zoom_range = 0.2,\n",
        "                                   horizontal_flip = True)\n",
        "\n",
        "# Note that the validation data should not be augmented!\n",
        "test_datagen = ImageDataGenerator( rescale = 1.0/255. )\n",
        "\n",
        "# Flow training images in batches of 20 using train_datagen generator\n",
        "train_generator = train_datagen.flow_from_directory(train_dir,\n",
        "                                                    batch_size = 20,\n",
        "                                                    class_mode = 'binary', \n",
        "                                                    target_size = (150, 150))     \n",
        "\n",
        "# Flow validation images in batches of 20 using test_datagen generator\n",
        "validation_generator =  test_datagen.flow_from_directory( validation_dir,\n",
        "                                                          batch_size  = 20,\n",
        "                                                          class_mode  = 'binary', \n",
        "                                                          target_size = (150, 150))\n",
        "\n",
        "callbacks = myCallback()\n",
        "history = model.fit_generator(\n",
        "            train_generator,\n",
        "            validation_data = validation_generator,\n",
        "            steps_per_epoch = 100,\n",
        "            epochs = 100,\n",
        "            validation_steps = 50,\n",
        "            verbose = 2,\n",
        "            callbacks=[callbacks])"
      ],
      "execution_count": 15,
      "outputs": [
        {
          "output_type": "stream",
          "text": [
            "last layer output shape:  (None, 7, 7, 768)\n",
            "Found 2000 images belonging to 2 classes.\n",
            "Found 1000 images belonging to 2 classes.\n"
          ],
          "name": "stdout"
        },
        {
          "output_type": "stream",
          "text": [
            "/usr/local/lib/python3.7/dist-packages/tensorflow/python/keras/optimizer_v2/optimizer_v2.py:375: UserWarning: The `lr` argument is deprecated, use `learning_rate` instead.\n",
            "  \"The `lr` argument is deprecated, use `learning_rate` instead.\")\n",
            "/usr/local/lib/python3.7/dist-packages/tensorflow/python/keras/engine/training.py:1940: UserWarning: `Model.fit_generator` is deprecated and will be removed in a future version. Please use `Model.fit`, which supports generators.\n",
            "  warnings.warn('`Model.fit_generator` is deprecated and '\n"
          ],
          "name": "stderr"
        },
        {
          "output_type": "stream",
          "text": [
            "Epoch 1/100\n",
            "100/100 - 20s - loss: 0.3718 - acc: 0.8565 - val_loss: 0.1187 - val_acc: 0.9590\n",
            "Epoch 2/100\n",
            "100/100 - 17s - loss: 0.2150 - acc: 0.9115 - val_loss: 0.0965 - val_acc: 0.9630\n",
            "Epoch 3/100\n",
            "100/100 - 16s - loss: 0.1970 - acc: 0.9225 - val_loss: 0.1170 - val_acc: 0.9620\n",
            "Epoch 4/100\n",
            "100/100 - 17s - loss: 0.1894 - acc: 0.9315 - val_loss: 0.2023 - val_acc: 0.9410\n",
            "Epoch 5/100\n",
            "100/100 - 16s - loss: 0.2062 - acc: 0.9265 - val_loss: 0.0957 - val_acc: 0.9650\n",
            "Epoch 6/100\n",
            "100/100 - 17s - loss: 0.1599 - acc: 0.9360 - val_loss: 0.1140 - val_acc: 0.9640\n",
            "Epoch 7/100\n",
            "100/100 - 16s - loss: 0.1757 - acc: 0.9375 - val_loss: 0.1157 - val_acc: 0.9600\n",
            "Epoch 8/100\n",
            "100/100 - 16s - loss: 0.1593 - acc: 0.9415 - val_loss: 0.1261 - val_acc: 0.9600\n",
            "Epoch 9/100\n",
            "100/100 - 16s - loss: 0.1909 - acc: 0.9425 - val_loss: 0.1242 - val_acc: 0.9590\n",
            "Epoch 10/100\n",
            "100/100 - 17s - loss: 0.1463 - acc: 0.9485 - val_loss: 0.1230 - val_acc: 0.9620\n",
            "Epoch 11/100\n",
            "100/100 - 16s - loss: 0.1648 - acc: 0.9390 - val_loss: 0.1058 - val_acc: 0.9640\n",
            "Epoch 12/100\n",
            "100/100 - 17s - loss: 0.1610 - acc: 0.9470 - val_loss: 0.1055 - val_acc: 0.9670\n",
            "Epoch 13/100\n",
            "100/100 - 16s - loss: 0.1414 - acc: 0.9515 - val_loss: 0.1495 - val_acc: 0.9630\n",
            "Epoch 14/100\n",
            "100/100 - 16s - loss: 0.1386 - acc: 0.9575 - val_loss: 0.1247 - val_acc: 0.9610\n",
            "Epoch 15/100\n",
            "100/100 - 16s - loss: 0.1324 - acc: 0.9625 - val_loss: 0.1433 - val_acc: 0.9630\n",
            "\n",
            "Reached 99.9% accuracy so cancelling training!\n"
          ],
          "name": "stdout"
        }
      ]
    },
    {
      "cell_type": "code",
      "metadata": {
        "colab": {
          "base_uri": "https://localhost:8080/",
          "height": 545
        },
        "id": "M522Ss1iRBJM",
        "outputId": "841aadf0-4ce3-4bff-dd89-5ae31b0d9f7a"
      },
      "source": [
        "import matplotlib.pyplot as plt\n",
        "acc = history.history['acc']\n",
        "val_acc = history.history['val_acc']\n",
        "loss = history.history['loss']\n",
        "val_loss = history.history['val_loss']\n",
        "\n",
        "epochs = range(len(acc))\n",
        "\n",
        "plt.plot(epochs, acc, 'bo', label='Training accuracy')\n",
        "plt.plot(epochs, val_acc, 'b', label='Validation accuracy')\n",
        "plt.title('Training and validation accuracy')\n",
        "\n",
        "plt.figure()\n",
        "\n",
        "plt.plot(epochs, loss, 'bo', label='Training Loss')\n",
        "plt.plot(epochs, val_loss, 'b', label='Validation Loss')\n",
        "plt.title('Training and validation loss')\n",
        "plt.legend()\n",
        "\n",
        "plt.show()"
      ],
      "execution_count": 16,
      "outputs": [
        {
          "output_type": "display_data",
          "data": {
            "image/png": "[encoded data removed]",
            "text/plain": [
              "<Figure size 432x288 with 1 Axes>"
            ]
          },
          "metadata": {
            "tags": [],
            "needs_background": "light"
          }
        },
        {
          "output_type": "display_data",
          "data": {
            "image/png": "[encoded data removed]",
            "text/plain": [
              "<Figure size 432x288 with 1 Axes>"
            ]
          },
          "metadata": {
            "tags": [],
            "needs_background": "light"
          }
        }
      ]
    },
    {
      "cell_type": "code",
      "metadata": {
        "colab": {
          "resources": {
            "http://localhost:8080/nbextensions/google.colab/files.js": {
              "data": "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",
              "ok": true,
              "headers": [
                [
                  "content-type",
                  "application/javascript"
                ]
              ],
              "status": 200,
              "status_text": ""
            }
          },
          "base_uri": "https://localhost:8080/",
          "height": 106
        },
        "id": "72iddGndRI9V",
        "outputId": "6a47d050-76e4-4197-8465-fa748ec3a7e8"
      },
      "source": [
        "import numpy as np\n",
        "from google.colab import files\n",
        "from keras.preprocessing import image\n",
        "\n",
        "uploaded = files.upload()\n",
        "\n",
        "for fn in uploaded.keys():\n",
        " \n",
        "  # predicting images\n",
        "  path = '/content/' + fn\n",
        "  img = image.load_img(path, target_size=(150, 150))\n",
        "  x = image.img_to_array(img)\n",
        "  x = np.expand_dims(x, axis=0)\n",
        "\n",
        "  images = np.vstack([x])\n",
        "  classes = model.predict(images, batch_size=10)\n",
        "  print(classes[0])\n",
        "  if classes[0]>0.5:\n",
        "    print(fn + \" is a dog\")\n",
        "  else:\n",
        "    print(fn + \" is a cat\")"
      ],
      "execution_count": 17,
      "outputs": [
        {
          "output_type": "display_data",
          "data": {
            "text/html": [
              "\n",
              "     <input type=\"file\" id=\"files-80bca0a1-83fe-43e9-a320-9222496a96fa\" name=\"files[]\" multiple disabled\n",
              "        style=\"border:none\" />\n",
              "     <output id=\"result-80bca0a1-83fe-43e9-a320-9222496a96fa\">\n",
              "      Upload widget is only available when the cell has been executed in the\n",
              "      current browser session. Please rerun this cell to enable.\n",
              "      </output>\n",
              "      <script src=\"/nbextensions/google.colab/files.js\"></script> "
            ],
            "text/plain": [
              "<IPython.core.display.HTML object>"
            ]
          },
          "metadata": {
            "tags": []
          }
        },
        {
          "output_type": "stream",
          "text": [
            "Saving dog.jpg to dog.jpg\n",
            "[0.]\n",
            "dog.jpg is a cat\n"
          ],
          "name": "stdout"
        }
      ]
    }
  ]
}